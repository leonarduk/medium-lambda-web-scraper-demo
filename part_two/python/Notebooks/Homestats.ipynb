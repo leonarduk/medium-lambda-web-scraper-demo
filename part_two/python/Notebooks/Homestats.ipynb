{
 "cells": [
  {
   "cell_type": "code",
   "execution_count": null,
   "id": "a36513ee-f4a0-4f2e-b3a2-ca0483bc014f",
   "metadata": {},
   "outputs": [],
   "source": [
    "import pandas as pd\n",
    "import urllib.parse\n",
    "\n",
    "def fetch_field(field):\n",
    "    ## Enter the URL for your endpoint here.  This is the URL you tested in the browser previously\n",
    "    URL = F\"https://ryya1cssfj.execute-api.eu-west-1.amazonaws.com/dev?field={ urllib.parse.quote(field)}\"\n",
    "\n",
    "    print(F\"URL {URL}\")\n",
    "    timeseries_df = pd.read_csv(URL)\n",
    "    \n",
    "    # print(timeseries_df)    \n",
    "    \n",
    "    timeseries_df['Date'] = pd.to_datetime(timeseries_df['Date'])\n",
    "\n",
    "    timeseries_df.set_index(timeseries_df.Date, inplace=True) \n",
    "    timeseries_df = timeseries_df.resample('D').pad()\n",
    "    timeseries_df.Date = timeseries_df.index.values\n",
    "    timeseries_df.drop(columns=['Date'], inplace=True)\n",
    "\n",
    "    timeseries_df.rename(columns = {'Value':field}, inplace = True)\n",
    "\n",
    "    return timeseries_df\n"
   ]
  },
  {
   "cell_type": "code",
   "execution_count": null,
   "id": "66297f43-057f-4c3d-aa5e-1e762e51640f",
   "metadata": {
    "tags": []
   },
   "outputs": [],
   "source": [
    "from functools import reduce\n",
    "\n",
    "def fetch_series(fields):\n",
    "    print(f\"Fields: {fields}\")\n",
    "    data_frames = []\n",
    "    for field in fields:\n",
    "        print(f\"fetch {field}\")\n",
    "        try:\n",
    "            src = fetch_field(field=field)\n",
    "            print(src)\n",
    "            data_frames.append(src)\n",
    "        except Exception as e:\n",
    "            print(f\"Failed to fetch {field} : {str(e)}\")\n",
    "    data_frames = reduce(lambda df1, df2: pd.merge_asof(df1, df2, on='Date'), data_frames).set_index('Date')\n",
    "\n",
    "    # print(data_frames)\n",
    "    # reverse row order\n",
    "    return data_frames"
   ]
  },
  {
   "cell_type": "code",
   "execution_count": null,
   "id": "318fd87b-13db-4036-8fae-2c67350d6121",
   "metadata": {
    "tags": []
   },
   "outputs": [],
   "source": [
    "# series_names = ['Total unique homes for sale found:', 'Average asking price of property for sale:']\n",
    "series_names = ['Properties increased in price in last 14 days:', 'Properties reduced in price in last 14 days:',\n",
    "                      'Properties placed on market in last 14 days:','Total unique homes for sale found:',\n",
    "                      'Average asking price of property for sale:']\n",
    "\n",
    "series_data = fetch_series(series_names)"
   ]
  },
  {
   "cell_type": "code",
   "execution_count": null,
   "id": "c5bb1496-898f-46d6-9706-9ce0b1596af0",
   "metadata": {},
   "outputs": [],
   "source": [
    "# !pip install openpyxl\n",
    "with pd.ExcelWriter('output.xlsx',\n",
    "\n",
    "                    mode='w') as writer:  \n",
    "\n",
    "    series_data.to_excel(writer, sheet_name='Sheet_name_3')"
   ]
  },
  {
   "cell_type": "code",
   "execution_count": null,
   "id": "0d5daa37",
   "metadata": {},
   "outputs": [],
   "source": [
    "# This will fill in any gaos in the series using the value before it\n",
    "# https://pandas.pydata.org/docs/reference/api/pandas.DataFrame.fillna.html\n",
    "\n",
    "series_data.fillna(method=\"ffill\", inplace=True)\n"
   ]
  },
  {
   "cell_type": "markdown",
   "id": "53ba4cc6-8e51-4d20-802d-6beafc592dc6",
   "metadata": {},
   "source": [
    "This produces a graph of our data.  It will normalise the data,  that is re-scaling the data value into the same range\n",
    "see https://codesource.io/how-to-normalize-data-in-python/"
   ]
  },
  {
   "cell_type": "code",
   "execution_count": null,
   "id": "ed27d4ac-8743-4375-b289-44f32f0bdd2f",
   "metadata": {
    "tags": []
   },
   "outputs": [],
   "source": [
    "df_min_max_scaled = series_data.copy()\n",
    "                    \n",
    "for column in series_names:\n",
    "    df_min_max_scaled[column] = (df_min_max_scaled[column] - df_min_max_scaled[column].min()) / (df_min_max_scaled[column].max() - df_min_max_scaled[column].min())    \n",
    "  \n",
    "# view normalized data\n",
    "# display(df_min_max_scaled)\n",
    "\n",
    "df_min_max_scaled.plot(title='National  Home stats' , figsize=(20,10));"
   ]
  }
 ],
 "metadata": {
  "kernelspec": {
   "display_name": "Python 3 (ipykernel)",
   "language": "python",
   "name": "python3"
  },
  "language_info": {
   "codemirror_mode": {
    "name": "ipython",
    "version": 3
   },
   "file_extension": ".py",
   "mimetype": "text/x-python",
   "name": "python",
   "nbconvert_exporter": "python",
   "pygments_lexer": "ipython3",
   "version": "3.9.7"
  }
 },
 "nbformat": 4,
 "nbformat_minor": 5
}
